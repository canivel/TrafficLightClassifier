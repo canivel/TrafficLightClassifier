{
 "cells": [
  {
   "cell_type": "code",
   "execution_count": 1,
   "metadata": {
    "collapsed": false
   },
   "outputs": [],
   "source": [
    "import argparse\n",
    "import numpy as np\n",
    "import sys\n",
    "import pickle\n",
    "import os\n",
    "import cv2\n",
    "from sklearn.model_selection import train_test_split\n",
    "from sklearn.ensemble import RandomForestClassifier\n",
    "from sklearn.metrics import accuracy_score\n",
    "\n",
    "from gcforest.gcforest import GCForest\n",
    "from gcforest.utils.config_utils import load_json"
   ]
  },
  {
   "cell_type": "code",
   "execution_count": 2,
   "metadata": {
    "collapsed": true
   },
   "outputs": [],
   "source": [
    "def get_files(dir_path):\n",
    "    return [f for f in os.listdir(dir_path) if os.path.isfile(os.path.join(dir_path, f))]\n",
    "\n",
    "dataset_samples = []\n",
    "dataset_labels = []\n",
    "\n",
    "def read_dataset_dir(dir_path, label, dataset_samples, dataset_labels):\n",
    "    for filename in get_files(dir_path):\n",
    "        image = cv2.cvtColor(cv2.imread(os.path.join(dir_path, filename)), cv2.COLOR_BGR2RGB)\n",
    "        image = cv2.resize(image, (24, 72))\n",
    "        dataset_samples.append(image)\n",
    "        dataset_labels.append(label)\n",
    "\n",
    "red_samples, red_labels = [], []\n",
    "read_dataset_dir('data/simulator/red', 0, red_samples, red_labels)\n",
    "read_dataset_dir('data/udacity-sdc/red', 0, red_samples, red_labels)\n",
    "\n",
    "yellow_samples, yellow_labels = [], []\n",
    "read_dataset_dir('data/simulator/yellow', 1, yellow_samples, yellow_labels)\n",
    "read_dataset_dir('data/udacity-sdc/yellow', 1, yellow_samples, yellow_labels)\n",
    "\n",
    "green_samples, green_labels = [], []\n",
    "read_dataset_dir('data/udacity-sdc/green', 2, green_samples, green_labels)\n",
    "read_dataset_dir('data/simulator/green', 2, green_samples, green_labels)\n",
    "\n",
    "red_samples = np.array(red_samples)\n",
    "red_labels = np.array(red_labels)\n",
    "\n",
    "X_red_train, X_red_test, y_red_train, y_red_test = train_test_split(\n",
    "    red_samples,\n",
    "    red_labels,\n",
    "    test_size=0.05,\n",
    "    random_state=42\n",
    ")\n",
    "\n",
    "X_yellow_train, X_yellow_test, y_yellow_train, y_yellow_test = train_test_split(\n",
    "    yellow_samples,\n",
    "    yellow_labels,\n",
    "    test_size=0.05,\n",
    "    random_state=42\n",
    ")\n",
    "\n",
    "X_green_train, X_green_test, y_green_train, y_green_test = train_test_split(\n",
    "    green_samples,\n",
    "    green_labels,\n",
    "    test_size=0.05,\n",
    "    random_state=42\n",
    ")\n",
    "\n",
    "X_train = np.concatenate([X_red_train, X_yellow_train, X_green_train], axis=0)\n",
    "y_train = np.concatenate([y_red_train, y_yellow_train, y_green_train], axis=0)\n",
    "\n",
    "X_test = np.concatenate([X_red_test, X_yellow_test, X_green_test], axis=0)\n",
    "y_test = np.concatenate([y_red_test, y_yellow_test, y_green_test], axis=0)"
   ]
  },
  {
   "cell_type": "code",
   "execution_count": 3,
   "metadata": {
    "collapsed": false
   },
   "outputs": [
    {
     "name": "stdout",
     "output_type": "stream",
     "text": [
      "(858, 72, 24, 3)\n",
      "(858,)\n",
      "(47, 72, 24, 3)\n",
      "(47,)\n"
     ]
    }
   ],
   "source": [
    "print(X_train.shape)\n",
    "print(y_train.shape)\n",
    "print(X_test.shape)\n",
    "print(y_test.shape)"
   ]
  },
  {
   "cell_type": "code",
   "execution_count": 4,
   "metadata": {
    "collapsed": true
   },
   "outputs": [],
   "source": [
    "n_train = X_train.shape [0]\n",
    "n_test = X_test.shape [0]\n",
    "image_shape = X_train.shape [1:3]\n",
    "n_classes = 3"
   ]
  },
  {
   "cell_type": "code",
   "execution_count": 5,
   "metadata": {
    "collapsed": false
   },
   "outputs": [],
   "source": [
    "#rescaling of pixel magnitudes\n",
    "X_train_preprocessed = np.divide(X_train, 255).astype (np.float32);\n",
    "X_test_preprocessed = np.divide(X_test, 255).astype (np.float32);\n",
    "\n",
    "n_train_classes = [np.count_nonzero(y_train==i) for i in range (n_classes)] \n",
    "n_test_classes = [np.count_nonzero(y_test==i) for i in range (n_classes)] \n",
    "\n",
    "#dividing into train and validation dataset\n",
    "def shuffle_dataset (dataset_x, dataset_y):\n",
    "    assert len (dataset_x) == len (dataset_y)\n",
    "    p = np.random.permutation(len(dataset_x))\n",
    "    return dataset_x [p], dataset_y [p]\n",
    "\n",
    "def train_validation_split (dataset_x, dataset_y, train_proportion):\n",
    "    train_samples_by_classes = []\n",
    "    train_labels_by_classes = []\n",
    "    X_train_samples = np.zeros ((0, image_shape[0], image_shape[1], 3))\n",
    "    y_train_samples = np.zeros ((0,))\n",
    "    X_validation_samples = np.zeros ((0, image_shape[0], image_shape[1], 3))\n",
    "    y_validation_samples = np.zeros ((0,))\n",
    "    sample_index = 0\n",
    "    for class_size in n_train_classes:\n",
    "        train_samples_count = int(train_proportion * class_size)\n",
    "\n",
    "        #getting and shuffle one class samples\n",
    "        dataset_x_for_class = dataset_x[sample_index:sample_index + class_size]\n",
    "        dataset_y_for_class = dataset_y[sample_index:sample_index + class_size]\n",
    "        dataset_x_for_class, dataset_y_for_class = shuffle_dataset (dataset_x_for_class, dataset_y_for_class)\n",
    "        \n",
    "        #splitting to train and validation dataset\n",
    "        X_train_for_class = dataset_x_for_class[0:train_samples_count]\n",
    "        y_train_for_class = dataset_y_for_class[0:train_samples_count]\n",
    "        X_valid_for_class = dataset_x_for_class[train_samples_count:class_size]\n",
    "        y_valid_for_class = dataset_y_for_class[train_samples_count:class_size]\n",
    "        \n",
    "        #storing train samples by classes\n",
    "        #this will be used later to generate augmented dataset\n",
    "        train_samples_by_classes.append (X_train_for_class)\n",
    "        train_labels_by_classes.append (y_train_for_class)\n",
    "        \n",
    "        #storing samples in corresponding datasets\n",
    "        X_train_samples = np.concatenate((X_train_samples, X_train_for_class), axis=0)\n",
    "        y_train_samples = np.concatenate((y_train_samples, y_train_for_class), axis=0)\n",
    "        X_validation_samples = np.concatenate((X_validation_samples, X_valid_for_class), axis=0)\n",
    "        y_validation_samples = np.concatenate((y_validation_samples, y_valid_for_class), axis=0)\n",
    "        \n",
    "        sample_index += class_size\n",
    "        \n",
    "    return X_train_samples, y_train_samples, X_validation_samples, y_validation_samples, train_samples_by_classes, train_labels_by_classes\n",
    "\n",
    "X_train_s, y_train_s, X_valid_s, y_valid_s, train_samples, labels_by_classes = train_validation_split (\n",
    "    X_train_preprocessed, y_train, 0.8)"
   ]
  },
  {
   "cell_type": "code",
   "execution_count": 6,
   "metadata": {
    "collapsed": false
   },
   "outputs": [
    {
     "name": "stdout",
     "output_type": "stream",
     "text": [
      "(685, 72, 24, 3)\n",
      "(685,)\n",
      "(173, 72, 24, 3)\n",
      "(173,)\n",
      "464\n",
      "464\n"
     ]
    }
   ],
   "source": [
    "print(X_train_s.shape)\n",
    "print(y_train_s.shape)\n",
    "print(X_valid_s.shape)\n",
    "print(y_valid_s.shape)\n",
    "print(len(train_samples[0]))\n",
    "print(len(labels_by_classes[0]))"
   ]
  },
  {
   "cell_type": "code",
   "execution_count": 30,
   "metadata": {
    "collapsed": true
   },
   "outputs": [],
   "source": [
    "import random as rand\n",
    "\n",
    "# generate @generate_count images from given @images\n",
    "def augment_images (images, generate_count):\n",
    "    images_last_index = len (images) - 1\n",
    "    augmented = []\n",
    "    for i in range (generate_count):\n",
    "        im1 = images [rand.randint (0, images_last_index)]\n",
    "        \n",
    "        #rotation and scaling\n",
    "        Mrot = cv2.getRotationMatrix2D((16,16),rand.uniform(-5.0, 5.0), rand.uniform(0.95, 1.05))\n",
    "\n",
    "        #affine transform and shifts\n",
    "        pts1 = np.float32([[0,0],[image_shape[1],0],[image_shape[1], image_shape[0]]])\n",
    "        a = 5;\n",
    "        shift = 8\n",
    "        shiftx = rand.randint (-shift, shift);\n",
    "        shifty = rand.randint (-shift, shift);\n",
    "        pts2 = np.float32([[\n",
    "                    0 + rand.randint (-a, a) + shiftx,\n",
    "                    0 + rand.randint (-a, a) + shifty\n",
    "                ],[\n",
    "                    image_shape[1] + rand.randint (-a, a) + shiftx,\n",
    "                    0 + rand.randint (-a, a) + shifty\n",
    "                ],[\n",
    "                    image_shape[1] + rand.randint (-a, a) + shiftx,\n",
    "                    image_shape[0] + rand.randint (-a, a) + shifty\n",
    "                ]])\n",
    "        M = cv2.getAffineTransform(pts1,pts2)\n",
    "        (h, w) = im1.shape[:2]\n",
    "\n",
    "        augmented_image = cv2.warpAffine(\n",
    "            cv2.warpAffine (\n",
    "                im1\n",
    "                , Mrot, (w, h)\n",
    "            )\n",
    "            , M, (w,h)\n",
    "        )\n",
    "        \n",
    "        augmented_image += rand.uniform(-0.2, 0.2)\n",
    "        np.clip(augmented_image, 0.0, 1.0, out=augmented_image)\n",
    "        \n",
    "        augmented.append (augmented_image)\n",
    "        \n",
    "    return augmented"
   ]
  },
  {
   "cell_type": "code",
   "execution_count": 31,
   "metadata": {
    "collapsed": true
   },
   "outputs": [],
   "source": [
    "#augmented dataset will be stored in this global variables\n",
    "X_train_augmented = np.zeros ((0, image_shape[0], image_shape[1], 3))\n",
    "y_train_augmented = np.zeros ((0,))\n",
    "\n",
    "#generate images up to 3000 images for each class\n",
    "#augmented dataset will contain only generated images\n",
    "augment_limit = 3000\n",
    "def augment_dataset ():\n",
    "    global X_train_augmented\n",
    "    global y_train_augmented\n",
    "    X_train_augmented = np.zeros ((0, image_shape[0], image_shape[1], 3))\n",
    "    y_train_augmented = np.zeros ((0,))\n",
    "    \n",
    "    for augmenting_index in range(n_classes):\n",
    "        samples = train_samples [augmenting_index]\n",
    "        labels = labels_by_classes [augmenting_index]\n",
    "\n",
    "        augment_count = augment_limit\n",
    "        new_samples = augment_images (samples, augment_count)\n",
    "        y_train_augmented = np.concatenate((y_train_augmented, [augmenting_index for i in range (augment_count)]), axis=0)\n",
    "\n",
    "        X_train_augmented = np.concatenate((X_train_augmented, new_samples), axis=0)"
   ]
  },
  {
   "cell_type": "code",
   "execution_count": 32,
   "metadata": {
    "collapsed": false
   },
   "outputs": [
    {
     "name": "stdout",
     "output_type": "stream",
     "text": [
      "(9000, 72, 24, 3)\n",
      "(9000,)\n"
     ]
    }
   ],
   "source": [
    "augment_dataset ()\n",
    "print(X_train_augmented.shape)\n",
    "print(y_train_augmented.shape)"
   ]
  },
  {
   "cell_type": "code",
   "execution_count": 33,
   "metadata": {
    "collapsed": true
   },
   "outputs": [],
   "source": [
    "train_dataset_x, train_dataset_y = shuffle_dataset (X_train_augmented, y_train_augmented)"
   ]
  },
  {
   "cell_type": "code",
   "execution_count": 34,
   "metadata": {
    "collapsed": true
   },
   "outputs": [],
   "source": [
    "#GC Model"
   ]
  },
  {
   "cell_type": "code",
   "execution_count": 50,
   "metadata": {
    "collapsed": false
   },
   "outputs": [],
   "source": [
    "def get_toy_config():\n",
    "    config = {}\n",
    "    ca_config = {}\n",
    "    ca_config[\"random_state\"] = 0\n",
    "    ca_config[\"max_layers\"] = 100\n",
    "    ca_config[\"early_stopping_rounds\"] = 3\n",
    "    ca_config[\"n_classes\"] = n_classes\n",
    "    ca_config[\"estimators\"] = []\n",
    "    ca_config[\"estimators\"].append(\n",
    "             {\"n_folds\": 5, \"type\": \"XGBClassifier\", \"n_estimators\": 10, \"max_depth\": 5,\n",
    "              \"objective\": \"multi:softprob\", \"silent\": True, \"nthread\": -1, \"learning_rate\": 0.1} )\n",
    "#     ca_config[\"estimators\"].append({\"n_folds\": 5, \"type\": \"RandomForestClassifier\", \"n_estimators\": 10, \"max_depth\": None, \"n_jobs\": -1})\n",
    "    ca_config[\"estimators\"].append({\"n_folds\": 1, \"type\": \"ExtraTreesClassifier\", \"n_estimators\": 10, \"max_depth\": None, \"n_jobs\": -1})\n",
    "#    ca_config[\"estimators\"].append({\"n_folds\": 5, \"type\": \"LogisticRegression\"})\n",
    "    config[\"cascade\"] = ca_config\n",
    "    return config"
   ]
  },
  {
   "cell_type": "code",
   "execution_count": 51,
   "metadata": {
    "collapsed": false
   },
   "outputs": [
    {
     "name": "stdout",
     "output_type": "stream",
     "text": [
      "(3000, 1, 72, 24, 3)\n",
      "(3000,)\n",
      "(2000, 1, 72, 24, 3)\n",
      "(2000,)\n"
     ]
    }
   ],
   "source": [
    "config = get_toy_config()\n",
    "gc = GCForest(config)\n",
    "# If the model you use cost too much memory for you.\n",
    "# You can use these methods to force gcforest not keeping model in memory\n",
    "# gc.set_keep_model_in_mem(False), default is TRUE.\n",
    "n_test = 500\n",
    "# (X_train, y_train), (X_test, y_test) = mnist.load_data()\n",
    "X_train, y_train = train_dataset_x[4000:-n_test], train_dataset_y[4000:-n_test]\n",
    "X_test, y_test = train_dataset_x[-n_test:], train_dataset_y[-n_test:]\n",
    "\n",
    "X_train = X_train[:, np.newaxis, :, :]\n",
    "X_test = X_test[:, np.newaxis, :, :]\n",
    "\n",
    "print(X_train.shape)\n",
    "print(y_train.shape)\n",
    "print(X_test.shape)\n",
    "print(y_test.shape)"
   ]
  },
  {
   "cell_type": "code",
   "execution_count": 52,
   "metadata": {
    "collapsed": false
   },
   "outputs": [
    {
     "name": "stderr",
     "output_type": "stream",
     "text": [
      "[ 2018-02-20 14:36:21,284][cascade_classifier.fit_transform] X_groups_train.shape=[(3000, 1, 72, 24, 3)],y_train.shape=(3000,),X_groups_test.shape=no_test,y_test.shape=no_test\n",
      "[ 2018-02-20 14:36:21,332][cascade_classifier.fit_transform] group_dims=[5184]\n",
      "[ 2018-02-20 14:36:21,333][cascade_classifier.fit_transform] group_starts=[0]\n",
      "[ 2018-02-20 14:36:21,334][cascade_classifier.fit_transform] group_ends=[5184]\n",
      "[ 2018-02-20 14:36:21,335][cascade_classifier.fit_transform] X_train.shape=(3000, 5184),X_test.shape=(0, 5184)\n",
      "[ 2018-02-20 14:36:21,377][cascade_classifier.fit_transform] [layer=0] look_indexs=[0], X_cur_train.shape=(3000, 5184), X_cur_test.shape=(0, 5184)\n",
      "[ 2018-02-20 14:36:52,244][kfold_wrapper.log_eval_metrics] Accuracy(layer_0 - estimator_0 - 5_folds.train_0.predict)=94.01%\n",
      "[ 2018-02-20 14:37:23,109][kfold_wrapper.log_eval_metrics] Accuracy(layer_0 - estimator_0 - 5_folds.train_1.predict)=94.68%\n",
      "[ 2018-02-20 14:37:53,890][kfold_wrapper.log_eval_metrics] Accuracy(layer_0 - estimator_0 - 5_folds.train_2.predict)=93.51%\n",
      "[ 2018-02-20 14:38:24,455][kfold_wrapper.log_eval_metrics] Accuracy(layer_0 - estimator_0 - 5_folds.train_3.predict)=93.49%\n",
      "[ 2018-02-20 14:38:54,926][kfold_wrapper.log_eval_metrics] Accuracy(layer_0 - estimator_0 - 5_folds.train_4.predict)=95.32%\n",
      "[ 2018-02-20 14:38:54,927][kfold_wrapper.log_eval_metrics] Accuracy(layer_0 - estimator_0 - 5_folds.train_cv.predict)=94.20%\n",
      "[ 2018-02-20 14:38:55,425][kfold_wrapper.log_eval_metrics] Accuracy(layer_0 - estimator_1 - 1_folds.train_0.predict)=100.00%\n",
      "[ 2018-02-20 14:38:55,426][kfold_wrapper.log_eval_metrics] Accuracy(layer_0 - estimator_1 - 1_folds.train_cv.predict)=100.00%\n",
      "[ 2018-02-20 14:38:55,428][cascade_classifier.calc_accuracy] Accuracy(layer_0 - train.classifier_average)=100.00%\n",
      "[ 2018-02-20 14:38:55,489][cascade_classifier.fit_transform] [layer=1] look_indexs=[0], X_cur_train.shape=(3000, 5190), X_cur_test.shape=(0, 5190)\n",
      "[ 2018-02-20 14:39:09,525][kfold_wrapper.log_eval_metrics] Accuracy(layer_1 - estimator_0 - 5_folds.train_0.predict)=100.00%\n",
      "[ 2018-02-20 14:39:23,540][kfold_wrapper.log_eval_metrics] Accuracy(layer_1 - estimator_0 - 5_folds.train_1.predict)=100.00%\n",
      "[ 2018-02-20 14:39:37,695][kfold_wrapper.log_eval_metrics] Accuracy(layer_1 - estimator_0 - 5_folds.train_2.predict)=100.00%\n",
      "[ 2018-02-20 14:39:51,775][kfold_wrapper.log_eval_metrics] Accuracy(layer_1 - estimator_0 - 5_folds.train_3.predict)=100.00%\n",
      "[ 2018-02-20 14:40:05,829][kfold_wrapper.log_eval_metrics] Accuracy(layer_1 - estimator_0 - 5_folds.train_4.predict)=100.00%\n",
      "[ 2018-02-20 14:40:05,830][kfold_wrapper.log_eval_metrics] Accuracy(layer_1 - estimator_0 - 5_folds.train_cv.predict)=100.00%\n",
      "[ 2018-02-20 14:40:06,327][kfold_wrapper.log_eval_metrics] Accuracy(layer_1 - estimator_1 - 1_folds.train_0.predict)=100.00%\n",
      "[ 2018-02-20 14:40:06,330][kfold_wrapper.log_eval_metrics] Accuracy(layer_1 - estimator_1 - 1_folds.train_cv.predict)=100.00%\n",
      "[ 2018-02-20 14:40:06,331][cascade_classifier.calc_accuracy] Accuracy(layer_1 - train.classifier_average)=100.00%\n",
      "[ 2018-02-20 14:40:06,383][cascade_classifier.fit_transform] [layer=2] look_indexs=[0], X_cur_train.shape=(3000, 5190), X_cur_test.shape=(0, 5190)\n",
      "[ 2018-02-20 14:40:20,314][kfold_wrapper.log_eval_metrics] Accuracy(layer_2 - estimator_0 - 5_folds.train_0.predict)=100.00%\n",
      "[ 2018-02-20 14:40:34,302][kfold_wrapper.log_eval_metrics] Accuracy(layer_2 - estimator_0 - 5_folds.train_1.predict)=100.00%\n",
      "[ 2018-02-20 14:40:48,521][kfold_wrapper.log_eval_metrics] Accuracy(layer_2 - estimator_0 - 5_folds.train_2.predict)=100.00%\n",
      "[ 2018-02-20 14:41:02,611][kfold_wrapper.log_eval_metrics] Accuracy(layer_2 - estimator_0 - 5_folds.train_3.predict)=100.00%\n",
      "[ 2018-02-20 14:41:16,693][kfold_wrapper.log_eval_metrics] Accuracy(layer_2 - estimator_0 - 5_folds.train_4.predict)=100.00%\n",
      "[ 2018-02-20 14:41:16,694][kfold_wrapper.log_eval_metrics] Accuracy(layer_2 - estimator_0 - 5_folds.train_cv.predict)=100.00%\n",
      "[ 2018-02-20 14:41:17,200][kfold_wrapper.log_eval_metrics] Accuracy(layer_2 - estimator_1 - 1_folds.train_0.predict)=100.00%\n",
      "[ 2018-02-20 14:41:17,202][kfold_wrapper.log_eval_metrics] Accuracy(layer_2 - estimator_1 - 1_folds.train_cv.predict)=100.00%\n",
      "[ 2018-02-20 14:41:17,204][cascade_classifier.calc_accuracy] Accuracy(layer_2 - train.classifier_average)=100.00%\n",
      "[ 2018-02-20 14:41:17,263][cascade_classifier.fit_transform] [layer=3] look_indexs=[0], X_cur_train.shape=(3000, 5190), X_cur_test.shape=(0, 5190)\n",
      "[ 2018-02-20 14:41:31,301][kfold_wrapper.log_eval_metrics] Accuracy(layer_3 - estimator_0 - 5_folds.train_0.predict)=100.00%\n",
      "[ 2018-02-20 14:41:45,351][kfold_wrapper.log_eval_metrics] Accuracy(layer_3 - estimator_0 - 5_folds.train_1.predict)=100.00%\n",
      "[ 2018-02-20 14:41:59,388][kfold_wrapper.log_eval_metrics] Accuracy(layer_3 - estimator_0 - 5_folds.train_2.predict)=100.00%\n",
      "[ 2018-02-20 14:42:13,570][kfold_wrapper.log_eval_metrics] Accuracy(layer_3 - estimator_0 - 5_folds.train_3.predict)=100.00%\n",
      "[ 2018-02-20 14:42:27,584][kfold_wrapper.log_eval_metrics] Accuracy(layer_3 - estimator_0 - 5_folds.train_4.predict)=100.00%\n",
      "[ 2018-02-20 14:42:27,585][kfold_wrapper.log_eval_metrics] Accuracy(layer_3 - estimator_0 - 5_folds.train_cv.predict)=100.00%\n",
      "[ 2018-02-20 14:42:28,099][kfold_wrapper.log_eval_metrics] Accuracy(layer_3 - estimator_1 - 1_folds.train_0.predict)=100.00%\n",
      "[ 2018-02-20 14:42:28,102][kfold_wrapper.log_eval_metrics] Accuracy(layer_3 - estimator_1 - 1_folds.train_cv.predict)=100.00%\n",
      "[ 2018-02-20 14:42:28,104][cascade_classifier.calc_accuracy] Accuracy(layer_3 - train.classifier_average)=100.00%\n",
      "[ 2018-02-20 14:42:28,105][cascade_classifier.fit_transform] [Result][Optimal Level Detected] opt_layer_num=1, accuracy_train=100.00%, accuracy_test=0.00%\n"
     ]
    }
   ],
   "source": [
    "#Fit\n",
    "X_train_enc = gc.fit_transform(X_train, y_train)\n",
    "# X_enc is the concatenated predict_proba result of each estimators of the last layer of the GCForest model\n",
    "# X_enc.shape =\n",
    "#   (n_datas, n_estimators * n_classes): If cascade is provided\n",
    "#   (n_datas, n_estimators * n_classes, dimX, dimY): If only finegrained part is provided\n",
    "# You can also pass X_test, y_test to fit_transform method, then the accracy on test data will be logged when training.\n",
    "# X_train_enc, X_test_enc = gc.fit_transform(X_train, y_train, X_test=X_test, y_test=y_test)\n",
    "# WARNING: if you set gc.set_keep_model_in_mem(True), you would have to use\n",
    "# gc.fit_transform(X_train, y_train, X_test=X_test, y_test=y_test) to evaluate your model."
   ]
  },
  {
   "cell_type": "code",
   "execution_count": 53,
   "metadata": {
    "collapsed": false
   },
   "outputs": [
    {
     "name": "stderr",
     "output_type": "stream",
     "text": [
      "[ 2018-02-20 14:42:28,372][cascade_classifier.transform] X_groups_test.shape=[(2000, 1, 72, 24, 3)]\n",
      "[ 2018-02-20 14:42:28,409][cascade_classifier.transform] group_dims=[5184]\n",
      "[ 2018-02-20 14:42:28,410][cascade_classifier.transform] X_test.shape=(2000, 5184)\n",
      "[ 2018-02-20 14:42:28,441][cascade_classifier.transform] [layer=0] look_indexs=[0], X_cur_test.shape=(2000, 5184)\n"
     ]
    },
    {
     "name": "stdout",
     "output_type": "stream",
     "text": [
      "Test Accuracy of GcForest = 98.85 %\n"
     ]
    }
   ],
   "source": [
    "y_pred = gc.predict(X_test)\n",
    "acc = accuracy_score(y_test, y_pred)\n",
    "print(\"Test Accuracy of GcForest = {:.2f} %\".format(acc * 100))"
   ]
  },
  {
   "cell_type": "code",
   "execution_count": 75,
   "metadata": {
    "collapsed": false
   },
   "outputs": [
    {
     "name": "stdout",
     "output_type": "stream",
     "text": [
      "RED\n"
     ]
    },
    {
     "data": {
      "image/png": "[encoded data removed]",
      "text/plain": [
       "<matplotlib.figure.Figure at 0x2681d83f3c8>"
      ]
     },
     "metadata": {},
     "output_type": "display_data"
    },
    {
     "name": "stdout",
     "output_type": "stream",
     "text": [
      "YELLOW\n"
     ]
    },
    {
     "data": {
      "image/png": "[encoded data removed]",
      "text/plain": [
       "<matplotlib.figure.Figure at 0x2681f206cf8>"
      ]
     },
     "metadata": {},
     "output_type": "display_data"
    },
    {
     "name": "stdout",
     "output_type": "stream",
     "text": [
      "GREEN\n"
     ]
    },
    {
     "data": {
      "image/png": "[encoded data removed]",
      "text/plain": [
       "<matplotlib.figure.Figure at 0x2681eb1c860>"
      ]
     },
     "metadata": {},
     "output_type": "display_data"
    }
   ],
   "source": [
    "import matplotlib.pyplot as plt\n",
    "from mpl_toolkits.axes_grid1 import ImageGrid\n",
    "\n",
    "\n",
    "def show_images_in_grid (images, rows, cols):\n",
    "    fig = plt.figure (figsize=(5., 10.))\n",
    "    grid = ImageGrid(fig, 111,\n",
    "                     nrows_ncols=(rows, cols),\n",
    "                     axes_pad=0.1\n",
    "                     )\n",
    "    for i in range(len (images)):\n",
    "        grid[i].imshow(images [i])\n",
    "\n",
    "    plt.show()\n",
    "    \n",
    "#table of traffic sign examples for diffetent classes\n",
    "# im_pos = 0\n",
    "X_test_examples_red = []\n",
    "X_test_examples_yellow = []\n",
    "X_test_examples_green = []\n",
    "\n",
    "import random\n",
    "n_prints = 25\n",
    "for i in range(n_prints):\n",
    "    ix = random.randint(1, y_test.shape[0])\n",
    "    if(y_test[ix] == 0):\n",
    "        #print('RED')\n",
    "        X_test_examples_red.append(X_test[ix][0])\n",
    "        \n",
    "    elif(y_test[ix] == 1):\n",
    "        #print('YELLOW')\n",
    "        X_test_examples_yellow.append(X_test[ix][0])\n",
    "    else:\n",
    "        #print('GREEN')\n",
    "        X_test_examples_green.append(X_test[ix][0])\n",
    "\n",
    "        \n",
    "print('RED')\n",
    "show_images_in_grid(X_test_examples_red, 2, 10)\n",
    "print('YELLOW')\n",
    "show_images_in_grid(X_test_examples_yellow, 2, 10)\n",
    "print('GREEN')\n",
    "show_images_in_grid(X_test_examples_green, 2, 10)"
   ]
  },
  {
   "cell_type": "code",
   "execution_count": 43,
   "metadata": {
    "collapsed": false
   },
   "outputs": [
    {
     "name": "stdout",
     "output_type": "stream",
     "text": [
      "[0 1 2 ... 1 1 1]\n"
     ]
    }
   ],
   "source": [
    "print(y_pred)"
   ]
  },
  {
   "cell_type": "code",
   "execution_count": 31,
   "metadata": {
    "collapsed": false
   },
   "outputs": [
    {
     "ename": "NameError",
     "evalue": "name 'X_train_enc' is not defined",
     "output_type": "error",
     "traceback": [
      "\u001b[0;31m---------------------------------------------------------------------------\u001b[0m",
      "\u001b[0;31mNameError\u001b[0m                                 Traceback (most recent call last)",
      "\u001b[0;32m<ipython-input-31-56351f34d648>\u001b[0m in \u001b[0;36m<module>\u001b[0;34m()\u001b[0m\n\u001b[1;32m      1\u001b[0m \u001b[1;31m# save the model to disk\u001b[0m\u001b[1;33m\u001b[0m\u001b[1;33m\u001b[0m\u001b[0m\n\u001b[1;32m      2\u001b[0m \u001b[0mfilename\u001b[0m \u001b[1;33m=\u001b[0m \u001b[1;34m'X_train_enc_model.sav'\u001b[0m\u001b[1;33m\u001b[0m\u001b[0m\n\u001b[0;32m----> 3\u001b[0;31m \u001b[0mpickle\u001b[0m\u001b[1;33m.\u001b[0m\u001b[0mdump\u001b[0m\u001b[1;33m(\u001b[0m\u001b[0mX_train_enc\u001b[0m\u001b[1;33m,\u001b[0m \u001b[0mopen\u001b[0m\u001b[1;33m(\u001b[0m\u001b[0mfilename\u001b[0m\u001b[1;33m,\u001b[0m \u001b[1;34m'wb'\u001b[0m\u001b[1;33m)\u001b[0m\u001b[1;33m)\u001b[0m\u001b[1;33m\u001b[0m\u001b[0m\n\u001b[0m",
      "\u001b[0;31mNameError\u001b[0m: name 'X_train_enc' is not defined"
     ]
    }
   ],
   "source": [
    "# save the model to disk\n",
    "filename = 'X_train_enc_model.sav'\n",
    "pickle.dump(X_train_enc, open(filename, 'wb'))"
   ]
  },
  {
   "cell_type": "code",
   "execution_count": 32,
   "metadata": {
    "collapsed": true
   },
   "outputs": [],
   "source": [
    "from six.moves import xrange"
   ]
  },
  {
   "cell_type": "code",
   "execution_count": null,
   "metadata": {
    "collapsed": true
   },
   "outputs": [],
   "source": []
  }
 ],
 "metadata": {
  "kernelspec": {
   "display_name": "Python 3",
   "language": "python",
   "name": "python3"
  },
  "language_info": {
   "codemirror_mode": {
    "name": "ipython",
    "version": 3
   },
   "file_extension": ".py",
   "mimetype": "text/x-python",
   "name": "python",
   "nbconvert_exporter": "python",
   "pygments_lexer": "ipython3",
   "version": "3.6.0"
  }
 },
 "nbformat": 4,
 "nbformat_minor": 2
}
