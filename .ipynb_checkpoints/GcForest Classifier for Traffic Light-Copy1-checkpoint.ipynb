{
 "cells": [
  {
   "cell_type": "code",
   "execution_count": 7,
   "metadata": {
    "collapsed": false
   },
   "outputs": [],
   "source": [
    "import argparse\n",
    "import numpy as np\n",
    "import sys\n",
    "import pickle\n",
    "import os\n",
    "import cv2\n",
    "from sklearn.model_selection import train_test_split\n",
    "from sklearn.ensemble import RandomForestClassifier\n",
    "from sklearn.metrics import accuracy_score\n",
    "\n",
    "from gcforest.gcforest import GCForest\n",
    "from gcforest.utils.config_utils import load_json"
   ]
  },
  {
   "cell_type": "code",
   "execution_count": 8,
   "metadata": {
    "collapsed": true
   },
   "outputs": [],
   "source": [
    "def get_files(dir_path):\n",
    "    return [f for f in os.listdir(dir_path) if os.path.isfile(os.path.join(dir_path, f))]\n",
    "\n",
    "dataset_samples = []\n",
    "dataset_labels = []\n",
    "\n",
    "def read_dataset_dir(dir_path, label, dataset_samples, dataset_labels):\n",
    "    for filename in get_files(dir_path):\n",
    "        image = cv2.cvtColor(cv2.imread(os.path.join(dir_path, filename)), cv2.COLOR_BGR2RGB)\n",
    "        image = cv2.resize(image, (24, 72))\n",
    "        dataset_samples.append(image)\n",
    "        dataset_labels.append(label)\n",
    "\n",
    "red_samples, red_labels = [], []\n",
    "read_dataset_dir('data/simulator/red', 0, red_samples, red_labels)\n",
    "read_dataset_dir('data/udacity-sdc/red', 0, red_samples, red_labels)\n",
    "\n",
    "yellow_samples, yellow_labels = [], []\n",
    "read_dataset_dir('data/simulator/yellow', 1, yellow_samples, yellow_labels)\n",
    "read_dataset_dir('data/udacity-sdc/yellow', 1, yellow_samples, yellow_labels)\n",
    "\n",
    "green_samples, green_labels = [], []\n",
    "read_dataset_dir('data/udacity-sdc/green', 2, green_samples, green_labels)\n",
    "read_dataset_dir('data/simulator/green', 2, green_samples, green_labels)\n",
    "\n",
    "red_samples = np.array(red_samples)\n",
    "red_labels = np.array(red_labels)\n",
    "\n",
    "X_red_train, X_red_test, y_red_train, y_red_test = train_test_split(\n",
    "    red_samples,\n",
    "    red_labels,\n",
    "    test_size=0.05,\n",
    "    random_state=42\n",
    ")\n",
    "\n",
    "X_yellow_train, X_yellow_test, y_yellow_train, y_yellow_test = train_test_split(\n",
    "    yellow_samples,\n",
    "    yellow_labels,\n",
    "    test_size=0.05,\n",
    "    random_state=42\n",
    ")\n",
    "\n",
    "X_green_train, X_green_test, y_green_train, y_green_test = train_test_split(\n",
    "    green_samples,\n",
    "    green_labels,\n",
    "    test_size=0.05,\n",
    "    random_state=42\n",
    ")\n",
    "\n",
    "X_train = np.concatenate([X_red_train, X_yellow_train, X_green_train], axis=0)\n",
    "y_train = np.concatenate([y_red_train, y_yellow_train, y_green_train], axis=0)\n",
    "\n",
    "X_test = np.concatenate([X_red_test, X_yellow_test, X_green_test], axis=0)\n",
    "y_test = np.concatenate([y_red_test, y_yellow_test, y_green_test], axis=0)"
   ]
  },
  {
   "cell_type": "code",
   "execution_count": 9,
   "metadata": {
    "collapsed": false
   },
   "outputs": [
    {
     "name": "stdout",
     "output_type": "stream",
     "text": [
      "(858, 72, 24, 3)\n",
      "(858,)\n",
      "(47, 72, 24, 3)\n",
      "(47,)\n"
     ]
    }
   ],
   "source": [
    "print(X_train.shape)\n",
    "print(y_train.shape)\n",
    "print(X_test.shape)\n",
    "print(y_test.shape)"
   ]
  },
  {
   "cell_type": "code",
   "execution_count": 10,
   "metadata": {
    "collapsed": true
   },
   "outputs": [],
   "source": [
    "n_train = X_train.shape [0]\n",
    "n_test = X_test.shape [0]\n",
    "image_shape = X_train.shape [1:3]\n",
    "n_classes = 3"
   ]
  },
  {
   "cell_type": "code",
   "execution_count": 11,
   "metadata": {
    "collapsed": false
   },
   "outputs": [],
   "source": [
    "#rescaling of pixel magnitudes\n",
    "X_train_preprocessed = np.divide(X_train, 255).astype (np.float32);\n",
    "X_test_preprocessed = np.divide(X_test, 255).astype (np.float32);\n",
    "\n",
    "n_train_classes = [np.count_nonzero(y_train==i) for i in range (n_classes)] \n",
    "n_test_classes = [np.count_nonzero(y_test==i) for i in range (n_classes)] \n",
    "\n",
    "#dividing into train and validation dataset\n",
    "def shuffle_dataset (dataset_x, dataset_y):\n",
    "    assert len (dataset_x) == len (dataset_y)\n",
    "    p = np.random.permutation(len(dataset_x))\n",
    "    return dataset_x [p], dataset_y [p]\n",
    "\n",
    "def train_validation_split (dataset_x, dataset_y, train_proportion):\n",
    "    train_samples_by_classes = []\n",
    "    train_labels_by_classes = []\n",
    "    X_train_samples = np.zeros ((0, image_shape[0], image_shape[1], 3))\n",
    "    y_train_samples = np.zeros ((0,))\n",
    "    X_validation_samples = np.zeros ((0, image_shape[0], image_shape[1], 3))\n",
    "    y_validation_samples = np.zeros ((0,))\n",
    "    sample_index = 0\n",
    "    for class_size in n_train_classes:\n",
    "        train_samples_count = int(train_proportion * class_size)\n",
    "\n",
    "        #getting and shuffle one class samples\n",
    "        dataset_x_for_class = dataset_x[sample_index:sample_index + class_size]\n",
    "        dataset_y_for_class = dataset_y[sample_index:sample_index + class_size]\n",
    "        dataset_x_for_class, dataset_y_for_class = shuffle_dataset (dataset_x_for_class, dataset_y_for_class)\n",
    "        \n",
    "        #splitting to train and validation dataset\n",
    "        X_train_for_class = dataset_x_for_class[0:train_samples_count]\n",
    "        y_train_for_class = dataset_y_for_class[0:train_samples_count]\n",
    "        X_valid_for_class = dataset_x_for_class[train_samples_count:class_size]\n",
    "        y_valid_for_class = dataset_y_for_class[train_samples_count:class_size]\n",
    "        \n",
    "        #storing train samples by classes\n",
    "        #this will be used later to generate augmented dataset\n",
    "        train_samples_by_classes.append (X_train_for_class)\n",
    "        train_labels_by_classes.append (y_train_for_class)\n",
    "        \n",
    "        #storing samples in corresponding datasets\n",
    "        X_train_samples = np.concatenate((X_train_samples, X_train_for_class), axis=0)\n",
    "        y_train_samples = np.concatenate((y_train_samples, y_train_for_class), axis=0)\n",
    "        X_validation_samples = np.concatenate((X_validation_samples, X_valid_for_class), axis=0)\n",
    "        y_validation_samples = np.concatenate((y_validation_samples, y_valid_for_class), axis=0)\n",
    "        \n",
    "        sample_index += class_size\n",
    "        \n",
    "    return X_train_samples, y_train_samples, X_validation_samples, y_validation_samples, train_samples_by_classes, train_labels_by_classes\n",
    "\n",
    "X_train_s, y_train_s, X_valid_s, y_valid_s, train_samples, labels_by_classes = train_validation_split (\n",
    "    X_train_preprocessed, y_train, 0.8)"
   ]
  },
  {
   "cell_type": "code",
   "execution_count": 12,
   "metadata": {
    "collapsed": false
   },
   "outputs": [
    {
     "name": "stdout",
     "output_type": "stream",
     "text": [
      "(685, 72, 24, 3)\n",
      "(685,)\n",
      "(173, 72, 24, 3)\n",
      "(173,)\n",
      "464\n",
      "464\n"
     ]
    }
   ],
   "source": [
    "print(X_train_s.shape)\n",
    "print(y_train_s.shape)\n",
    "print(X_valid_s.shape)\n",
    "print(y_valid_s.shape)\n",
    "print(len(train_samples[0]))\n",
    "print(len(labels_by_classes[0]))"
   ]
  },
  {
   "cell_type": "code",
   "execution_count": 13,
   "metadata": {
    "collapsed": true
   },
   "outputs": [],
   "source": [
    "import random as rand\n",
    "\n",
    "# generate @generate_count images from given @images\n",
    "def augment_images (images, generate_count):\n",
    "    images_last_index = len (images) - 1\n",
    "    augmented = []\n",
    "    for i in range (generate_count):\n",
    "        im1 = images [rand.randint (0, images_last_index)]\n",
    "        \n",
    "        #rotation and scaling\n",
    "        Mrot = cv2.getRotationMatrix2D((16,16),rand.uniform(-5.0, 5.0), rand.uniform(0.95, 1.05))\n",
    "\n",
    "        #affine transform and shifts\n",
    "        pts1 = np.float32([[0,0],[image_shape[1],0],[image_shape[1], image_shape[0]]])\n",
    "        a = 5;\n",
    "        shift = 8\n",
    "        shiftx = rand.randint (-shift, shift);\n",
    "        shifty = rand.randint (-shift, shift);\n",
    "        pts2 = np.float32([[\n",
    "                    0 + rand.randint (-a, a) + shiftx,\n",
    "                    0 + rand.randint (-a, a) + shifty\n",
    "                ],[\n",
    "                    image_shape[1] + rand.randint (-a, a) + shiftx,\n",
    "                    0 + rand.randint (-a, a) + shifty\n",
    "                ],[\n",
    "                    image_shape[1] + rand.randint (-a, a) + shiftx,\n",
    "                    image_shape[0] + rand.randint (-a, a) + shifty\n",
    "                ]])\n",
    "        M = cv2.getAffineTransform(pts1,pts2)\n",
    "        (h, w) = im1.shape[:2]\n",
    "\n",
    "        augmented_image = cv2.warpAffine(\n",
    "            cv2.warpAffine (\n",
    "                im1\n",
    "                , Mrot, (w, h)\n",
    "            )\n",
    "            , M, (w,h)\n",
    "        )\n",
    "        \n",
    "        augmented_image += rand.uniform(-0.2, 0.2)\n",
    "        np.clip(augmented_image, 0.0, 1.0, out=augmented_image)\n",
    "        \n",
    "        augmented.append (augmented_image)\n",
    "        \n",
    "    return augmented"
   ]
  },
  {
   "cell_type": "code",
   "execution_count": 14,
   "metadata": {
    "collapsed": true
   },
   "outputs": [],
   "source": [
    "#augmented dataset will be stored in this global variables\n",
    "X_train_augmented = np.zeros ((0, image_shape[0], image_shape[1], 3))\n",
    "y_train_augmented = np.zeros ((0,))\n",
    "\n",
    "#generate images up to 3000 images for each class\n",
    "#augmented dataset will contain only generated images\n",
    "augment_limit = 3000\n",
    "def augment_dataset ():\n",
    "    global X_train_augmented\n",
    "    global y_train_augmented\n",
    "    X_train_augmented = np.zeros ((0, image_shape[0], image_shape[1], 3))\n",
    "    y_train_augmented = np.zeros ((0,))\n",
    "    \n",
    "    for augmenting_index in range(n_classes):\n",
    "        samples = train_samples[augmenting_index]\n",
    "        labels = labels_by_classes [augmenting_index]\n",
    "\n",
    "        augment_count = augment_limit\n",
    "        new_samples = augment_images (samples, augment_count)\n",
    "        y_train_augmented = np.concatenate((y_train_augmented, [augmenting_index for i in range (augment_count)]), axis=0)\n",
    "\n",
    "        X_train_augmented = np.concatenate((X_train_augmented, new_samples), axis=0)"
   ]
  },
  {
   "cell_type": "code",
   "execution_count": 15,
   "metadata": {
    "collapsed": false
   },
   "outputs": [
    {
     "name": "stdout",
     "output_type": "stream",
     "text": [
      "(9000, 72, 24, 3)\n",
      "(9000,)\n"
     ]
    }
   ],
   "source": [
    "augment_dataset ()\n",
    "print(X_train_augmented.shape)\n",
    "print(y_train_augmented.shape)"
   ]
  },
  {
   "cell_type": "code",
   "execution_count": 16,
   "metadata": {
    "collapsed": true
   },
   "outputs": [],
   "source": [
    "train_dataset_x, train_dataset_y = shuffle_dataset (X_train_augmented, y_train_augmented)"
   ]
  },
  {
   "cell_type": "code",
   "execution_count": 17,
   "metadata": {
    "collapsed": true
   },
   "outputs": [],
   "source": [
    "#GC Model"
   ]
  },
  {
   "cell_type": "code",
   "execution_count": 18,
   "metadata": {
    "collapsed": false
   },
   "outputs": [],
   "source": [
    "def get_toy_config():\n",
    "    config = {}\n",
    "    ca_config = {}\n",
    "    ca_config[\"random_state\"] = 0\n",
    "    ca_config[\"max_layers\"] = 100\n",
    "    ca_config[\"early_stopping_rounds\"] = 3\n",
    "    ca_config[\"n_classes\"] = n_classes\n",
    "    ca_config[\"estimators\"] = []\n",
    "    ca_config[\"estimators\"].append(\n",
    "             {\"n_folds\": 5, \"type\": \"XGBClassifier\", \"n_estimators\": 10, \"max_depth\": 5,\n",
    "              \"objective\": \"multi:softprob\", \"silent\": True, \"nthread\": -1, \"learning_rate\": 0.1} )\n",
    "#     ca_config[\"estimators\"].append({\"n_folds\": 5, \"type\": \"RandomForestClassifier\", \"n_estimators\": 10, \"max_depth\": None, \"n_jobs\": -1})\n",
    "    ca_config[\"estimators\"].append({\"n_folds\": 5, \"type\": \"ExtraTreesClassifier\", \"n_estimators\": 10, \"max_depth\": None, \"n_jobs\": -1})\n",
    "#    ca_config[\"estimators\"].append({\"n_folds\": 5, \"type\": \"LogisticRegression\"})\n",
    "    config[\"cascade\"] = ca_config\n",
    "    return config"
   ]
  },
  {
   "cell_type": "code",
   "execution_count": 19,
   "metadata": {
    "collapsed": false
   },
   "outputs": [
    {
     "name": "stdout",
     "output_type": "stream",
     "text": [
      "(8500, 1, 72, 24, 3)\n",
      "(8500,)\n",
      "(500, 1, 72, 24, 3)\n",
      "(500,)\n"
     ]
    }
   ],
   "source": [
    "config = get_toy_config()\n",
    "gc = GCForest(config)\n",
    "# If the model you use cost too much memory for you.\n",
    "# You can use these methods to force gcforest not keeping model in memory\n",
    "# gc.set_keep_model_in_mem(False), default is TRUE.\n",
    "n_test = 500\n",
    "# (X_train, y_train), (X_test, y_test) = mnist.load_data()\n",
    "X_train, y_train = train_dataset_x[:-n_test], train_dataset_y[:-n_test]\n",
    "X_test, y_test = train_dataset_x[-n_test:], train_dataset_y[-n_test:]\n",
    "\n",
    "X_train = X_train[:, np.newaxis, :, :]\n",
    "X_test = X_test[:, np.newaxis, :, :]\n",
    "\n",
    "print(X_train.shape)\n",
    "print(y_train.shape)\n",
    "print(X_test.shape)\n",
    "print(y_test.shape)"
   ]
  },
  {
   "cell_type": "code",
   "execution_count": null,
   "metadata": {
    "collapsed": false
   },
   "outputs": [
    {
     "name": "stderr",
     "output_type": "stream",
     "text": [
      "[ 2018-02-20 16:18:23,128][cascade_classifier.fit_transform] X_groups_train.shape=[(8500, 1, 72, 24, 3)],y_train.shape=(8500,),X_groups_test.shape=no_test,y_test.shape=no_test\n",
      "[ 2018-02-20 16:18:23,240][cascade_classifier.fit_transform] group_dims=[5184]\n",
      "[ 2018-02-20 16:18:23,241][cascade_classifier.fit_transform] group_starts=[0]\n",
      "[ 2018-02-20 16:18:23,241][cascade_classifier.fit_transform] group_ends=[5184]\n",
      "[ 2018-02-20 16:18:23,242][cascade_classifier.fit_transform] X_train.shape=(8500, 5184),X_test.shape=(0, 5184)\n",
      "[ 2018-02-20 16:18:23,351][cascade_classifier.fit_transform] [layer=0] look_indexs=[0], X_cur_train.shape=(8500, 5184), X_cur_test.shape=(0, 5184)\n",
      "[ 2018-02-20 16:19:50,609][kfold_wrapper.log_eval_metrics] Accuracy(layer_0 - estimator_0 - 5_folds.train_0.predict)=95.77%\n",
      "[ 2018-02-20 16:21:17,839][kfold_wrapper.log_eval_metrics] Accuracy(layer_0 - estimator_0 - 5_folds.train_1.predict)=95.77%\n",
      "[ 2018-02-20 16:22:44,825][kfold_wrapper.log_eval_metrics] Accuracy(layer_0 - estimator_0 - 5_folds.train_2.predict)=95.41%\n",
      "[ 2018-02-20 16:24:11,506][kfold_wrapper.log_eval_metrics] Accuracy(layer_0 - estimator_0 - 5_folds.train_3.predict)=94.47%\n"
     ]
    }
   ],
   "source": [
    "#Fit\n",
    "X_train_enc = gc.fit_transform(X_train, y_train)\n",
    "# X_enc is the concatenated predict_proba result of each estimators of the last layer of the GCForest model\n",
    "# X_enc.shape =\n",
    "#   (n_datas, n_estimators * n_classes): If cascade is provided\n",
    "#   (n_datas, n_estimators * n_classes, dimX, dimY): If only finegrained part is provided\n",
    "# You can also pass X_test, y_test to fit_transform method, then the accracy on test data will be logged when training.\n",
    "# X_train_enc, X_test_enc = gc.fit_transform(X_train, y_train, X_test=X_test, y_test=y_test)\n",
    "# WARNING: if you set gc.set_keep_model_in_mem(True), you would have to use\n",
    "# gc.fit_transform(X_train, y_train, X_test=X_test, y_test=y_test) to evaluate your model."
   ]
  },
  {
   "cell_type": "code",
   "execution_count": null,
   "metadata": {
    "collapsed": false
   },
   "outputs": [],
   "source": [
    "y_pred = gc.predict(X_test)\n",
    "acc = accuracy_score(y_test, y_pred)\n",
    "print(\"Test Accuracy of GcForest = {:.2f} %\".format(acc * 100))"
   ]
  },
  {
   "cell_type": "code",
   "execution_count": null,
   "metadata": {
    "collapsed": false
   },
   "outputs": [],
   "source": [
    "import matplotlib.pyplot as plt\n",
    "from mpl_toolkits.axes_grid1 import ImageGrid\n",
    "\n",
    "\n",
    "def show_images_in_grid (images, rows, cols):\n",
    "    fig = plt.figure (figsize=(5., 10.))\n",
    "    grid = ImageGrid(fig, 111,\n",
    "                     nrows_ncols=(rows, cols),\n",
    "                     axes_pad=0.1\n",
    "                     )\n",
    "    for i in range(len (images)):\n",
    "        grid[i].imshow(images [i])\n",
    "\n",
    "    plt.show()\n",
    "    \n",
    "#table of traffic sign examples for diffetent classes\n",
    "# im_pos = 0\n",
    "X_test_examples_red = []\n",
    "X_test_examples_yellow = []\n",
    "X_test_examples_green = []\n",
    "\n",
    "import random\n",
    "n_prints = 100\n",
    "for i in range(n_prints):\n",
    "    ix = random.randint(1, y_test.shape[0])\n",
    "    if(y_test[ix] == 0):\n",
    "        #print('RED')\n",
    "        X_test_examples_red.append(X_test[ix][0])\n",
    "        \n",
    "    elif(y_test[ix] == 1):\n",
    "        #print('YELLOW')\n",
    "        X_test_examples_yellow.append(X_test[ix][0])\n",
    "    else:\n",
    "        #print('GREEN')\n",
    "        X_test_examples_green.append(X_test[ix][0])\n",
    "\n",
    "        \n",
    "print('RED')\n",
    "show_images_in_grid(X_test_examples_red, 2, 20)\n",
    "print('YELLOW')\n",
    "show_images_in_grid(X_test_examples_yellow, 2, 20)\n",
    "print('GREEN')\n",
    "show_images_in_grid(X_test_examples_green, 2, 20)"
   ]
  },
  {
   "cell_type": "code",
   "execution_count": null,
   "metadata": {
    "collapsed": false
   },
   "outputs": [],
   "source": [
    "print(y_pred)"
   ]
  },
  {
   "cell_type": "code",
   "execution_count": null,
   "metadata": {
    "collapsed": false
   },
   "outputs": [],
   "source": [
    "# save the model to disk\n",
    "with open(\"test.pkl\", \"wb\") as f:\n",
    "    pickle.dump(gc, f, pickle.HIGHEST_PROTOCOL)\n",
    "# load\n",
    "with open(\"test.pkl\", \"rb\") as f:\n",
    "    gc = pickle.load(f)\n",
    "y_pred = gc.predict(X_test)\n",
    "acc = accuracy_score(y_test, y_pred)\n",
    "print(\"Test Accuracy of GcForest (save and load) = {:.2f} %\".format(acc * 100))"
   ]
  },
  {
   "cell_type": "code",
   "execution_count": null,
   "metadata": {
    "collapsed": true
   },
   "outputs": [],
   "source": []
  }
 ],
 "metadata": {
  "kernelspec": {
   "display_name": "Python 3",
   "language": "python",
   "name": "python3"
  },
  "language_info": {
   "codemirror_mode": {
    "name": "ipython",
    "version": 3
   },
   "file_extension": ".py",
   "mimetype": "text/x-python",
   "name": "python",
   "nbconvert_exporter": "python",
   "pygments_lexer": "ipython3",
   "version": "3.6.0"
  }
 },
 "nbformat": 4,
 "nbformat_minor": 2
}
